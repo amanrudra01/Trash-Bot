{
 "cells": [
  {
   "cell_type": "code",
   "execution_count": 1,
   "id": "7d9c6e2e-9593-4390-b101-26e992163481",
   "metadata": {},
   "outputs": [],
   "source": [
    "import cv2\n",
    "import numpy as np\n",
    "import dlib\n",
    "from mtcnn import MTCNN\n",
    "from sklearn.neighbors import KNeighborsClassifier\n",
    "import os\n",
    "import joblib"
   ]
  },
  {
   "cell_type": "code",
   "execution_count": 3,
   "id": "ce52102d-74cf-486c-899f-7ab1d60230b6",
   "metadata": {},
   "outputs": [],
   "source": [
    "detector = MTCNN()\n",
    "shape_predictor = dlib.shape_predictor('shape_predictor_68_face_landmarks.dat')\n",
    "face_rec_model = dlib.face_recognition_model_v1('dlib_face_recognition_resnet_model_v1.dat')"
   ]
  },
  {
   "cell_type": "code",
   "execution_count": 4,
   "id": "16fe0485-5cac-41a1-8701-68e73652f6d6",
   "metadata": {},
   "outputs": [],
   "source": [
    "# Initialize KNN classifier\n",
    "knn = KNeighborsClassifier(n_neighbors=3)"
   ]
  },
  {
   "cell_type": "code",
   "execution_count": 5,
   "id": "93681840-81b5-4776-b745-105a3a5625c0",
   "metadata": {},
   "outputs": [],
   "source": [
    "known_embeddings = []\n",
    "known_labels = []"
   ]
  },
  {
   "cell_type": "code",
   "execution_count": 6,
   "id": "995cd145-8064-4f2f-9445-63061bb46717",
   "metadata": {},
   "outputs": [],
   "source": [
    "images_path = 'Images'\n",
    "for label in os.listdir(images_path):\n",
    "    person_path = os.path.join(images_path, label)\n",
    "    if not os.path.isdir(person_path):\n",
    "        continue\n",
    "\n",
    "    for image_name in os.listdir(person_path):\n",
    "        if not image_name.lower().endswith('.png'):\n",
    "            continue\n",
    "\n",
    "        image_path = os.path.join(person_path, image_name)\n",
    "        image = cv2.imread(image_path)\n",
    "        faces = detector.detect_faces(image)\n",
    "\n",
    "        for face in faces:\n",
    "            x, y, w, h = face['box']\n",
    "            x, y = max(0, x), max(0, y)\n",
    "            gray = cv2.cvtColor(image, cv2.COLOR_BGR2GRAY)\n",
    "            rect = dlib.rectangle(x, y, x + w, y + h)\n",
    "            shape = shape_predictor(gray, rect)\n",
    "            embedding = np.array(face_rec_model.compute_face_descriptor(image, shape))\n",
    "\n",
    "            known_embeddings.append(embedding)\n",
    "            known_labels.append(label)"
   ]
  },
  {
   "cell_type": "code",
   "execution_count": 7,
   "id": "27caf534-8a69-4a5d-a91b-73352a2afcd8",
   "metadata": {},
   "outputs": [
    {
     "name": "stdout",
     "output_type": "stream",
     "text": [
      "KNN model trained and saved as 'knn_model.pkl'.\n"
     ]
    }
   ],
   "source": [
    "# Train and save the KNN classifier\n",
    "if known_embeddings:\n",
    "    knn.fit(known_embeddings, known_labels)\n",
    "    joblib.dump(knn, 'knn_model.pkl')\n",
    "    print(\"KNN model trained and saved as 'knn_model.pkl'.\")\n",
    "else:\n",
    "    print(\"No embeddings found. Model not trained.\")"
   ]
  },
  {
   "cell_type": "code",
   "execution_count": null,
   "id": "ca124682-72e1-4ff1-8457-d64130287092",
   "metadata": {},
   "outputs": [],
   "source": []
  }
 ],
 "metadata": {
  "kernelspec": {
   "display_name": "Python 3 (ipykernel)",
   "language": "python",
   "name": "python3"
  },
  "language_info": {
   "codemirror_mode": {
    "name": "ipython",
    "version": 3
   },
   "file_extension": ".py",
   "mimetype": "text/x-python",
   "name": "python",
   "nbconvert_exporter": "python",
   "pygments_lexer": "ipython3",
   "version": "3.12.5"
  }
 },
 "nbformat": 4,
 "nbformat_minor": 5
}
